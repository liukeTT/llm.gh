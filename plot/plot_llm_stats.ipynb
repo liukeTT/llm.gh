{
 "cells": [
  {
   "cell_type": "code",
   "execution_count": 1,
   "id": "922c3a0e-e063-41aa-9af4-d23ab00105d3",
   "metadata": {},
   "outputs": [
    {
     "name": "stdout",
     "output_type": "stream",
     "text": [
      "Defaulting to user installation because normal site-packages is not writeable\n",
      "Requirement already satisfied: matplotlib in /usr/lib/python3/dist-packages (3.5.1)\n",
      "\u001b[33mDEPRECATION: flatbuffers 1.12.1-git20200711.33e2d80-dfsg1-0.6 has a non-standard version number. pip 24.0 will enforce this behaviour change. A possible replacement is to upgrade to a newer version of flatbuffers or contact the author to suggest that they release a version with a conforming version number. Discussion can be found at https://github.com/pypa/pip/issues/12063\u001b[0m\u001b[33m\n",
      "\u001b[0m\n",
      "\u001b[1m[\u001b[0m\u001b[34;49mnotice\u001b[0m\u001b[1;39;49m]\u001b[0m\u001b[39;49m A new release of pip is available: \u001b[0m\u001b[31;49m23.3.1\u001b[0m\u001b[39;49m -> \u001b[0m\u001b[32;49m24.1.2\u001b[0m\n",
      "\u001b[1m[\u001b[0m\u001b[34;49mnotice\u001b[0m\u001b[1;39;49m]\u001b[0m\u001b[39;49m To update, run: \u001b[0m\u001b[32;49mpython3 -m pip install --upgrade pip\u001b[0m\n"
     ]
    }
   ],
   "source": [
    "!pip install matplotlib"
   ]
  },
  {
   "cell_type": "code",
   "execution_count": 8,
   "id": "5ef589b6-3eef-4feb-9c77-2040ca6cd485",
   "metadata": {},
   "outputs": [],
   "source": [
    "from mpl_plot import *\n",
    "\n",
    "import numpy as np"
   ]
  },
  {
   "cell_type": "code",
   "execution_count": 9,
   "id": "bc458876-e836-4382-abc8-86ddf75e3896",
   "metadata": {},
   "outputs": [],
   "source": [
    "def load_mem_size(filename):\n",
    "    a, p, g, m, v = [], [], [], [], []\n",
    "    with open(filename, \"rb\") as f:\n",
    "        for line in f.readlines():\n",
    "            if (b\"allocating\" in line) and (b\"for m\" in line):\n",
    "                m.append(float(line.split()[1]))\n",
    "            if (b\"allocating\" in line) and (b\"for v\" in line):\n",
    "                v.append(float(line.split()[1]))\n",
    "            if (b\"allocating\" in line) and (b\"for p\" in line):\n",
    "                p.append(float(line.split()[1]))\n",
    "            if (b\"allocating\" in line) and (b\"for g\" in line):\n",
    "                g.append(float(line.split()[1]))\n",
    "            if (b\"allocating\" in line) and (b\"for activations\" in line):\n",
    "                a.append(float(line.split()[1]))\n",
    "    return a, p, g, m, v\n",
    "\n",
    "result_f = \"../log.stats.gpt\"\n",
    "a, p, g, m, v = load_mem_size(result_f)"
   ]
  },
  {
   "cell_type": "code",
   "execution_count": 15,
   "id": "5267f892-28d9-4b90-8395-ee87bc4f5acc",
   "metadata": {},
   "outputs": [],
   "source": [
    "n_gpt, n_batch = 5, 8\n",
    "a = np.asarray(a).reshape((n_gpt, n_batch))\n",
    "m = np.asarray(m).reshape((n_gpt, n_batch))\n",
    "v = np.asarray(v).reshape((n_gpt, n_batch))\n",
    "p = np.asarray(p).reshape((n_gpt, n_batch))\n",
    "g = np.asarray(g).reshape((n_gpt, n_batch))\n",
    "total = a + m + v + p + g"
   ]
  },
  {
   "cell_type": "code",
   "execution_count": 18,
   "id": "2622a01e-ab7a-4116-855d-e7be83c8b1ff",
   "metadata": {},
   "outputs": [],
   "source": [
    "p_a = a / total\n",
    "p_pg = (p + g) / total\n",
    "p_mv = (m + v) / total"
   ]
  },
  {
   "cell_type": "code",
   "execution_count": 22,
   "id": "8ce33c82-0cfe-45eb-86d4-9e591547ecc0",
   "metadata": {},
   "outputs": [
    {
     "name": "stdout",
     "output_type": "stream",
     "text": [
      "figures/7B_memory.pdf\n",
      "figures/70B_memory.pdf\n",
      "figures/145B_memory.pdf\n",
      "figures/300B_memory.pdf\n",
      "figures/1T_memory.pdf\n"
     ]
    }
   ],
   "source": [
    "gpts = [\"7B\", \"70B\", \"145B\", \"300B\", \"1T\"]\n",
    "batch_size = [1, 4, 8, 16, 32, 64, 128, 256]\n",
    "\n",
    "colors = [crimson, blue, teal]\n",
    "\n",
    "for i in range(5):\n",
    "    gpt = gpts[i]\n",
    "    \n",
    "    x = list(range(1, len(batch_size)+1))\n",
    "    y_a = p_a[i]\n",
    "    y_pg = p_pg[i]\n",
    "    y_mv = p_mv[i]\n",
    "    \n",
    "    fig_f = f\"figures/{gpt}_memory.pdf\"\n",
    "    fig, axs = plt.subplots(figsize=(8, 6))\n",
    "    \n",
    "    axs.bar(x, y_a, color=colors[0], edgecolor=black)\n",
    "    axs.bar(x, y_pg, bottom=y_a, color=colors[1], edgecolor=black)\n",
    "    axs.bar(x, y_mv, bottom=y_a+y_pg, color=colors[2], edgecolor=black)\n",
    "    axs.set_xticks(x, batch_size)\n",
    "    x_label = \"Batch Size\"\n",
    "    y_label = \"Percentage %\"\n",
    "    axs.set_xlabel(x_label)\n",
    "    axs.set_ylabel(y_label)\n",
    "    fig.tight_layout()\n",
    "    plt.savefig(fig_f)\n",
    "    print(fig_f)"
   ]
  },
  {
   "cell_type": "code",
   "execution_count": null,
   "id": "d4a4815f-e755-4be3-bf70-10bc8c6e0da1",
   "metadata": {},
   "outputs": [],
   "source": []
  }
 ],
 "metadata": {
  "kernelspec": {
   "display_name": "Python 3 (ipykernel)",
   "language": "python",
   "name": "python3"
  },
  "language_info": {
   "codemirror_mode": {
    "name": "ipython",
    "version": 3
   },
   "file_extension": ".py",
   "mimetype": "text/x-python",
   "name": "python",
   "nbconvert_exporter": "python",
   "pygments_lexer": "ipython3",
   "version": "3.10.12"
  }
 },
 "nbformat": 4,
 "nbformat_minor": 5
}
